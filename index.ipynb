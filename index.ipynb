{
 "cells": [
  {
   "cell_type": "markdown",
   "metadata": {},
   "source": [
    "# One-to-Many and Many-to-Many Joins - Lab"
   ]
  },
  {
   "cell_type": "markdown",
   "metadata": {},
   "source": [
    "## Introduction"
   ]
  },
  {
   "cell_type": "markdown",
   "metadata": {},
   "source": [
    "In this lab, you'll practice your knowledge on One-to-Many and Many-to-many relationships!"
   ]
  },
  {
   "cell_type": "markdown",
   "metadata": {},
   "source": [
    "## Objectives"
   ]
  },
  {
   "cell_type": "markdown",
   "metadata": {},
   "source": [
    "You will be able to:\n",
    "- Query data including Many-to-Many relationships\n",
    "- Write queries that make use of Join Tables"
   ]
  },
  {
   "cell_type": "markdown",
   "metadata": {},
   "source": [
    "## One-to-Many and Many-to-Many Joins\n",
    "<img src='Database-Schema.png' width=550>"
   ]
  },
  {
   "cell_type": "code",
   "execution_count": 1,
   "metadata": {},
   "outputs": [],
   "source": [
    "import sqlite3\n",
    "import pandas as pd"
   ]
  },
  {
   "cell_type": "code",
   "execution_count": 2,
   "metadata": {},
   "outputs": [],
   "source": [
    "conn = sqlite3.connect('data.sqlite', detect_types=sqlite3.PARSE_COLNAMES)\n",
    "cur = conn.cursor()"
   ]
  },
  {
   "cell_type": "markdown",
   "metadata": {},
   "source": [
    "## Employees and their Office (a One-to-One join)\n",
    "\n",
    "Return a list of all of the employees with their first name, last name and the city and state of the office that they work out of (if they have one). Include all employees and order them by their first name, then their last name."
   ]
  },
  {
   "cell_type": "code",
   "execution_count": 3,
   "metadata": {},
   "outputs": [],
   "source": [
    "query = \"\"\"\n",
    "SELECT \n",
    "  employees.firstName\n",
    ", employees.lastName\n",
    ", offices.city\n",
    ", offices.state\n",
    "FROM\n",
    "  employees JOIN offices\n",
    "  ON employees.officeCode = offices.officeCode\n",
    "ORDER BY\n",
    "  employees.firstName\n",
    ", employees.lastName\n",
    "\"\"\""
   ]
  },
  {
   "cell_type": "code",
   "execution_count": 4,
   "metadata": {},
   "outputs": [],
   "source": [
    "result = cur.execute(query)"
   ]
  },
  {
   "cell_type": "code",
   "execution_count": 5,
   "metadata": {},
   "outputs": [
    {
     "data": {
      "text/plain": [
       "(('firstName', None, None, None, None, None, None),\n",
       " ('lastName', None, None, None, None, None, None),\n",
       " ('city', None, None, None, None, None, None),\n",
       " ('state', None, None, None, None, None, None))"
      ]
     },
     "execution_count": 5,
     "metadata": {},
     "output_type": "execute_result"
    }
   ],
   "source": [
    "result.description"
   ]
  },
  {
   "cell_type": "code",
   "execution_count": 6,
   "metadata": {},
   "outputs": [],
   "source": [
    "result_data = list(result)"
   ]
  },
  {
   "cell_type": "code",
   "execution_count": 7,
   "metadata": {},
   "outputs": [
    {
     "data": {
      "text/plain": [
       "23"
      ]
     },
     "execution_count": 7,
     "metadata": {},
     "output_type": "execute_result"
    }
   ],
   "source": [
    "len(result_data)"
   ]
  },
  {
   "cell_type": "code",
   "execution_count": 8,
   "metadata": {},
   "outputs": [
    {
     "ename": "StopIteration",
     "evalue": "",
     "output_type": "error",
     "traceback": [
      "\u001b[0;31m\u001b[0m",
      "\u001b[0;31mStopIteration\u001b[0mTraceback (most recent call last)",
      "\u001b[0;32m<ipython-input-8-709396a5599b>\u001b[0m in \u001b[0;36m<module>\u001b[0;34m()\u001b[0m\n\u001b[0;32m----> 1\u001b[0;31m \u001b[0mnext\u001b[0m\u001b[0;34m(\u001b[0m\u001b[0mresult\u001b[0m\u001b[0;34m)\u001b[0m\u001b[0;34m\u001b[0m\u001b[0m\n\u001b[0m",
      "\u001b[0;31mStopIteration\u001b[0m: "
     ]
    }
   ],
   "source": [
    "next(result)"
   ]
  },
  {
   "cell_type": "markdown",
   "metadata": {},
   "source": []
  },
  {
   "cell_type": "code",
   "execution_count": 9,
   "metadata": {},
   "outputs": [
    {
     "ename": "NameError",
     "evalue": "name 'StopInteration' is not defined",
     "output_type": "error",
     "traceback": [
      "\u001b[0;31m\u001b[0m",
      "\u001b[0;31mStopIteration\u001b[0mTraceback (most recent call last)",
      "\u001b[0;32m<ipython-input-9-bca5f5c79ed8>\u001b[0m in \u001b[0;36m<module>\u001b[0;34m()\u001b[0m\n\u001b[1;32m      4\u001b[0m     \u001b[0;32mtry\u001b[0m\u001b[0;34m:\u001b[0m\u001b[0;34m\u001b[0m\u001b[0m\n\u001b[0;32m----> 5\u001b[0;31m         \u001b[0mrow\u001b[0m \u001b[0;34m=\u001b[0m \u001b[0mnext\u001b[0m\u001b[0;34m(\u001b[0m\u001b[0mresult\u001b[0m\u001b[0;34m)\u001b[0m\u001b[0;34m\u001b[0m\u001b[0m\n\u001b[0m\u001b[1;32m      6\u001b[0m         \u001b[0mresult_data\u001b[0m\u001b[0;34m.\u001b[0m\u001b[0mappend\u001b[0m\u001b[0;34m(\u001b[0m\u001b[0mrow\u001b[0m\u001b[0;34m)\u001b[0m\u001b[0;34m\u001b[0m\u001b[0m\n",
      "\u001b[0;31mStopIteration\u001b[0m: ",
      "\nDuring handling of the above exception, another exception occurred:\n",
      "\u001b[0;31mNameError\u001b[0mTraceback (most recent call last)",
      "\u001b[0;32m<ipython-input-9-bca5f5c79ed8>\u001b[0m in \u001b[0;36m<module>\u001b[0;34m()\u001b[0m\n\u001b[1;32m      5\u001b[0m         \u001b[0mrow\u001b[0m \u001b[0;34m=\u001b[0m \u001b[0mnext\u001b[0m\u001b[0;34m(\u001b[0m\u001b[0mresult\u001b[0m\u001b[0;34m)\u001b[0m\u001b[0;34m\u001b[0m\u001b[0m\n\u001b[1;32m      6\u001b[0m         \u001b[0mresult_data\u001b[0m\u001b[0;34m.\u001b[0m\u001b[0mappend\u001b[0m\u001b[0;34m(\u001b[0m\u001b[0mrow\u001b[0m\u001b[0;34m)\u001b[0m\u001b[0;34m\u001b[0m\u001b[0m\n\u001b[0;32m----> 7\u001b[0;31m     \u001b[0;32mexcept\u001b[0m \u001b[0mStopInteration\u001b[0m\u001b[0;34m:\u001b[0m\u001b[0;34m\u001b[0m\u001b[0m\n\u001b[0m\u001b[1;32m      8\u001b[0m         \u001b[0;32mbreak\u001b[0m\u001b[0;34m\u001b[0m\u001b[0m\n\u001b[1;32m      9\u001b[0m \u001b[0;34m\u001b[0m\u001b[0m\n",
      "\u001b[0;31mNameError\u001b[0m: name 'StopInteration' is not defined"
     ]
    }
   ],
   "source": [
    "result_data = []\n",
    "\n",
    "while True:\n",
    "    try:\n",
    "        row = next(result)\n",
    "        result_data.append(row)\n",
    "    except StopInteration:\n",
    "        break\n",
    "        \n",
    "result_data = []\n",
    "for row in result:\n",
    "    result_data.append(row)"
   ]
  },
  {
   "cell_type": "code",
   "execution_count": 10,
   "metadata": {},
   "outputs": [],
   "source": [
    "list(zip(*result.description))[0]\n",
    "column = [row[0] for row in result.description]"
   ]
  },
  {
   "cell_type": "code",
   "execution_count": 11,
   "metadata": {},
   "outputs": [
    {
     "data": {
      "text/html": [
       "<div>\n",
       "<style scoped>\n",
       "    .dataframe tbody tr th:only-of-type {\n",
       "        vertical-align: middle;\n",
       "    }\n",
       "\n",
       "    .dataframe tbody tr th {\n",
       "        vertical-align: top;\n",
       "    }\n",
       "\n",
       "    .dataframe thead th {\n",
       "        text-align: right;\n",
       "    }\n",
       "</style>\n",
       "<table border=\"1\" class=\"dataframe\">\n",
       "  <thead>\n",
       "    <tr style=\"text-align: right;\">\n",
       "      <th></th>\n",
       "      <th>firstName</th>\n",
       "      <th>lastName</th>\n",
       "      <th>city</th>\n",
       "      <th>state</th>\n",
       "    </tr>\n",
       "  </thead>\n",
       "  <tbody>\n",
       "  </tbody>\n",
       "</table>\n",
       "</div>"
      ],
      "text/plain": [
       "Empty DataFrame\n",
       "Columns: [firstName, lastName, city, state]\n",
       "Index: []"
      ]
     },
     "execution_count": 11,
     "metadata": {},
     "output_type": "execute_result"
    }
   ],
   "source": [
    "pd.DataFrame(result_data, columns=column)"
   ]
  },
  {
   "cell_type": "code",
   "execution_count": 40,
   "metadata": {},
   "outputs": [
    {
     "data": {
      "text/plain": [
       "[('Andy', 'Fixter', 'Sydney', ''),\n",
       " ('Anthony', 'Bow', 'San Francisco', 'CA'),\n",
       " ('Barry', 'Jones', 'London', ''),\n",
       " ('Diane', 'Murphy', 'San Francisco', 'CA'),\n",
       " ('Foon Yue', 'Tseng', 'NYC', 'NY'),\n",
       " ('George', 'Vanauf', 'NYC', 'NY'),\n",
       " ('Gerard', 'Bondur', 'Paris', ''),\n",
       " ('Gerard', 'Hernandez', 'Paris', ''),\n",
       " ('Jeff', 'Firrelli', 'San Francisco', 'CA'),\n",
       " ('Julie', 'Firrelli', 'Boston', 'MA'),\n",
       " ('Larry', 'Bott', 'London', ''),\n",
       " ('Leslie', 'Jennings', 'San Francisco', 'CA'),\n",
       " ('Leslie', 'Thompson', 'San Francisco', 'CA'),\n",
       " ('Loui', 'Bondur', 'Paris', ''),\n",
       " ('Mami', 'Nishi', 'Tokyo', 'Chiyoda-Ku'),\n",
       " ('Martin', 'Gerard', 'Paris', ''),\n",
       " ('Mary', 'Patterson', 'San Francisco', 'CA'),\n",
       " ('Pamela', 'Castillo', 'Paris', ''),\n",
       " ('Peter', 'Marsh', 'Sydney', ''),\n",
       " ('Steve', 'Patterson', 'Boston', 'MA'),\n",
       " ('Tom', 'King', 'Sydney', ''),\n",
       " ('William', 'Patterson', 'Sydney', ''),\n",
       " ('Yoshimi', 'Kato', 'Tokyo', 'Chiyoda-Ku')]"
      ]
     },
     "execution_count": 40,
     "metadata": {},
     "output_type": "execute_result"
    }
   ],
   "source": [
    "result_data"
   ]
  },
  {
   "cell_type": "code",
   "execution_count": 12,
   "metadata": {},
   "outputs": [],
   "source": [
    "g = iter(range(0, 100))"
   ]
  },
  {
   "cell_type": "code",
   "execution_count": 13,
   "metadata": {},
   "outputs": [
    {
     "data": {
      "text/plain": [
       "0"
      ]
     },
     "execution_count": 13,
     "metadata": {},
     "output_type": "execute_result"
    }
   ],
   "source": [
    "next(g)"
   ]
  },
  {
   "cell_type": "code",
   "execution_count": 14,
   "metadata": {},
   "outputs": [],
   "source": [
    "def py2_range(start, stop):\n",
    "    \"\"\"Return a list of all integers between start and stop.\"\"\"\n",
    "    result = []\n",
    "    i = start\n",
    "    while i < stop:\n",
    "        result.append(i)\n",
    "        i += 1\n",
    "    return result"
   ]
  },
  {
   "cell_type": "code",
   "execution_count": 15,
   "metadata": {},
   "outputs": [
    {
     "data": {
      "text/plain": [
       "[0, 1, 2, 3, 4, 5, 6, 7, 8, 9]"
      ]
     },
     "execution_count": 15,
     "metadata": {},
     "output_type": "execute_result"
    }
   ],
   "source": [
    "py2_range(0, 10)"
   ]
  },
  {
   "cell_type": "code",
   "execution_count": 16,
   "metadata": {},
   "outputs": [],
   "source": [
    "def py3_range(start, stop):\n",
    "    \"\"\"Yield each integer between start and stop.\"\"\"\n",
    "    i = start\n",
    "    while i < stop:\n",
    "        yield i\n",
    "        i += 1"
   ]
  },
  {
   "cell_type": "code",
   "execution_count": 17,
   "metadata": {},
   "outputs": [
    {
     "data": {
      "text/plain": [
       "[0, 1, 2, 3, 4, 5, 6, 7, 8, 9]"
      ]
     },
     "execution_count": 17,
     "metadata": {},
     "output_type": "execute_result"
    }
   ],
   "source": [
    "list(py3_range(0, 10))"
   ]
  },
  {
   "cell_type": "code",
   "execution_count": 18,
   "metadata": {},
   "outputs": [
    {
     "name": "stdout",
     "output_type": "stream",
     "text": [
      "0\n",
      "1\n",
      "2\n",
      "3\n",
      "4\n",
      "5\n",
      "6\n",
      "7\n",
      "8\n",
      "9\n"
     ]
    }
   ],
   "source": [
    "for i in range(0, 10):\n",
    "    print(i)"
   ]
  },
  {
   "cell_type": "markdown",
   "metadata": {},
   "source": [
    "## Customers and their Orders (a One-to-Many join)\n",
    "\n",
    "Return a list of all of the customers. For each customer return a record for each of their order numbers, order dates and statuses."
   ]
  },
  {
   "cell_type": "code",
   "execution_count": 21,
   "metadata": {},
   "outputs": [
    {
     "data": {
      "text/plain": [
       "[('AV Stores, Co.', '10110', '2003-03-18', 'Shipped'),\n",
       " ('AV Stores, Co.', '10306', '2004-10-14', 'Shipped'),\n",
       " ('AV Stores, Co.', '10332', '2004-11-17', 'Shipped'),\n",
       " ('Alpha Cognac', '10136', '2003-07-04', 'Shipped'),\n",
       " ('Alpha Cognac', '10178', '2003-11-08', 'Shipped'),\n",
       " ('Alpha Cognac', '10397', '2005-03-28', 'Shipped'),\n",
       " ('Amica Models & Co.', '10280', '2004-08-17', 'Shipped'),\n",
       " ('Amica Models & Co.', '10293', '2004-09-09', 'Shipped'),\n",
       " (\"Anna's Decorations, Ltd\", '10148', '2003-09-11', 'Shipped'),\n",
       " (\"Anna's Decorations, Ltd\", '10169', '2003-11-04', 'Shipped'),\n",
       " (\"Anna's Decorations, Ltd\", '10370', '2005-01-20', 'Shipped'),\n",
       " (\"Anna's Decorations, Ltd\", '10391', '2005-03-09', 'Shipped'),\n",
       " ('Atelier graphique', '10123', '2003-05-20', 'Shipped'),\n",
       " ('Atelier graphique', '10298', '2004-09-27', 'Shipped'),\n",
       " ('Atelier graphique', '10345', '2004-11-25', 'Shipped'),\n",
       " ('Australian Collectables, Ltd', '10193', '2003-11-21', 'Shipped'),\n",
       " ('Australian Collectables, Ltd', '10265', '2004-07-02', 'Shipped'),\n",
       " ('Australian Collectables, Ltd', '10415', '2005-05-09', 'Disputed'),\n",
       " ('Australian Collectors, Co.', '10120', '2003-04-29', 'Shipped'),\n",
       " ('Australian Collectors, Co.', '10125', '2003-05-21', 'Shipped'),\n",
       " ('Australian Collectors, Co.', '10223', '2004-02-20', 'Shipped'),\n",
       " ('Australian Collectors, Co.', '10342', '2004-11-24', 'Shipped'),\n",
       " ('Australian Collectors, Co.', '10347', '2004-11-29', 'Shipped'),\n",
       " ('Australian Gift Network, Co', '10152', '2003-09-25', 'Shipped'),\n",
       " ('Australian Gift Network, Co', '10174', '2003-11-06', 'Shipped'),\n",
       " ('Australian Gift Network, Co', '10374', '2005-02-02', 'Shipped'),\n",
       " ('Auto Associés & Cie.', '10216', '2004-02-02', 'Shipped'),\n",
       " ('Auto Associés & Cie.', '10304', '2004-10-11', 'Shipped'),\n",
       " ('Auto Canal+ Petit', '10211', '2004-01-15', 'Shipped'),\n",
       " ('Auto Canal+ Petit', '10252', '2004-05-26', 'Shipped'),\n",
       " ('Auto Canal+ Petit', '10402', '2005-04-07', 'Shipped'),\n",
       " ('Auto-Moto Classics Inc.', '10130', '2003-06-16', 'Shipped'),\n",
       " ('Auto-Moto Classics Inc.', '10290', '2004-09-07', 'Shipped'),\n",
       " ('Auto-Moto Classics Inc.', '10352', '2004-12-03', 'Shipped'),\n",
       " ('Baane Mini Imports', '10103', '2003-01-29', 'Shipped'),\n",
       " ('Baane Mini Imports', '10158', '2003-10-10', 'Shipped'),\n",
       " ('Baane Mini Imports', '10309', '2004-10-15', 'Shipped'),\n",
       " ('Baane Mini Imports', '10325', '2004-11-05', 'Shipped'),\n",
       " ('Bavarian Collectables Imports, Co.', '10296', '2004-09-15', 'Shipped'),\n",
       " ('Blauer See Auto, Co.', '10101', '2003-01-09', 'Shipped'),\n",
       " ('Blauer See Auto, Co.', '10230', '2004-03-15', 'Shipped'),\n",
       " ('Blauer See Auto, Co.', '10300', '2003-10-04', 'Shipped'),\n",
       " ('Blauer See Auto, Co.', '10323', '2004-11-05', 'Shipped'),\n",
       " ('Boards & Toys Co.', '10154', '2003-10-02', 'Shipped'),\n",
       " ('Boards & Toys Co.', '10376', '2005-02-08', 'Shipped'),\n",
       " ('CAF Imports', '10177', '2003-11-07', 'Shipped'),\n",
       " ('CAF Imports', '10231', '2004-03-19', 'Shipped'),\n",
       " ('Cambridge Collectables Co.', '10228', '2004-03-10', 'Shipped'),\n",
       " ('Cambridge Collectables Co.', '10249', '2004-05-08', 'Shipped'),\n",
       " ('Canadian Gift Exchange Network', '10206', '2003-12-05', 'Shipped'),\n",
       " ('Canadian Gift Exchange Network', '10313', '2004-10-22', 'Shipped'),\n",
       " ('Classic Gift Ideas, Inc', '10183', '2003-11-13', 'Shipped'),\n",
       " ('Classic Gift Ideas, Inc', '10307', '2004-10-14', 'Shipped'),\n",
       " ('Classic Legends Inc.', '10115', '2003-04-04', 'Shipped'),\n",
       " ('Classic Legends Inc.', '10163', '2003-10-20', 'Shipped'),\n",
       " ('Classic Legends Inc.', '10337', '2004-11-21', 'Shipped'),\n",
       " ('Clover Collections, Co.', '10220', '2004-02-12', 'Shipped'),\n",
       " ('Clover Collections, Co.', '10297', '2004-09-16', 'Shipped'),\n",
       " ('Collectable Mini Designs Co.', '10222', '2004-02-19', 'Shipped'),\n",
       " ('Collectable Mini Designs Co.', '10226', '2004-02-26', 'Shipped'),\n",
       " ('Collectables For Less Inc.', '10147', '2003-09-05', 'Shipped'),\n",
       " ('Collectables For Less Inc.', '10274', '2004-07-21', 'Shipped'),\n",
       " ('Collectables For Less Inc.', '10369', '2005-01-20', 'Shipped'),\n",
       " ('Corporate Gift Ideas Co.', '10159', '2003-10-10', 'Shipped'),\n",
       " ('Corporate Gift Ideas Co.', '10162', '2003-10-18', 'Shipped'),\n",
       " ('Corporate Gift Ideas Co.', '10381', '2005-02-17', 'Shipped'),\n",
       " ('Corporate Gift Ideas Co.', '10384', '2005-02-23', 'Shipped'),\n",
       " ('Corrida Auto Replicas, Ltd', '10126', '2003-05-28', 'Shipped'),\n",
       " ('Corrida Auto Replicas, Ltd', '10214', '2004-01-26', 'Shipped'),\n",
       " ('Corrida Auto Replicas, Ltd', '10348', '2004-11-01', 'Shipped'),\n",
       " ('Cruz & Sons Co.', '10108', '2003-03-03', 'Shipped'),\n",
       " ('Cruz & Sons Co.', '10198', '2003-11-27', 'Shipped'),\n",
       " ('Cruz & Sons Co.', '10330', '2004-11-16', 'Shipped'),\n",
       " ('Daedalus Designs Imports', '10180', '2003-11-11', 'Shipped'),\n",
       " ('Daedalus Designs Imports', '10224', '2004-02-21', 'Shipped'),\n",
       " ('Danish Wholesale Imports', '10105', '2003-02-11', 'Shipped'),\n",
       " ('Danish Wholesale Imports', '10238', '2004-04-09', 'Shipped'),\n",
       " ('Danish Wholesale Imports', '10256', '2004-06-08', 'Shipped'),\n",
       " ('Danish Wholesale Imports', '10327', '2004-11-10', 'Resolved'),\n",
       " ('Danish Wholesale Imports', '10406', '2005-04-15', 'Disputed'),\n",
       " ('Diecast Classics Inc.', '10272', '2004-07-20', 'Shipped'),\n",
       " ('Diecast Classics Inc.', '10281', '2004-08-19', 'Shipped'),\n",
       " ('Diecast Classics Inc.', '10318', '2004-11-02', 'Shipped'),\n",
       " ('Diecast Classics Inc.', '10422', '2005-05-30', 'In Process'),\n",
       " ('Diecast Collectables', '10207', '2003-12-09', 'Shipped'),\n",
       " ('Diecast Collectables', '10243', '2004-04-26', 'Shipped'),\n",
       " ('Double Decker Gift Stores, Ltd', '10186', '2003-11-14', 'Shipped'),\n",
       " ('Double Decker Gift Stores, Ltd', '10213', '2004-01-22', 'Shipped'),\n",
       " ('Down Under Souveniers, Inc', '10132', '2003-06-25', 'Shipped'),\n",
       " ('Down Under Souveniers, Inc', '10254', '2004-06-03', 'Shipped'),\n",
       " ('Down Under Souveniers, Inc', '10354', '2004-12-04', 'Shipped'),\n",
       " ('Down Under Souveniers, Inc', '10393', '2005-03-11', 'Shipped'),\n",
       " ('Down Under Souveniers, Inc', '10404', '2005-04-08', 'Shipped'),\n",
       " ('Dragon Souveniers, Ltd.', '10117', '2003-04-16', 'Shipped'),\n",
       " ('Dragon Souveniers, Ltd.', '10150', '2003-09-19', 'Shipped'),\n",
       " ('Dragon Souveniers, Ltd.', '10165', '2003-10-22', 'Shipped'),\n",
       " ('Dragon Souveniers, Ltd.', '10277', '2004-08-04', 'Shipped'),\n",
       " ('Dragon Souveniers, Ltd.', '10387', '2005-03-02', 'Shipped'),\n",
       " ('Enaco Distributors', '10118', '2003-04-21', 'Shipped'),\n",
       " ('Enaco Distributors', '10197', '2003-11-26', 'Shipped'),\n",
       " ('Enaco Distributors', '10340', '2004-11-24', 'Shipped'),\n",
       " ('Euro+ Shopping Channel', '10104', '2003-01-31', 'Shipped'),\n",
       " ('Euro+ Shopping Channel', '10128', '2003-06-06', 'Shipped'),\n",
       " ('Euro+ Shopping Channel', '10133', '2003-06-27', 'Shipped'),\n",
       " ('Euro+ Shopping Channel', '10153', '2003-09-28', 'Shipped'),\n",
       " ('Euro+ Shopping Channel', '10156', '2003-10-08', 'Shipped'),\n",
       " ('Euro+ Shopping Channel', '10190', '2003-11-19', 'Shipped'),\n",
       " ('Euro+ Shopping Channel', '10203', '2003-12-02', 'Shipped'),\n",
       " ('Euro+ Shopping Channel', '10205', '2003-12-03', 'Shipped'),\n",
       " ('Euro+ Shopping Channel', '10212', '2004-01-16', 'Shipped'),\n",
       " ('Euro+ Shopping Channel', '10244', '2004-04-29', 'Shipped'),\n",
       " ('Euro+ Shopping Channel', '10246', '2004-05-05', 'Shipped'),\n",
       " ('Euro+ Shopping Channel', '10262', '2004-06-24', 'Cancelled'),\n",
       " ('Euro+ Shopping Channel', '10279', '2004-08-09', 'Shipped'),\n",
       " ('Euro+ Shopping Channel', '10311', '2004-10-16', 'Shipped'),\n",
       " ('Euro+ Shopping Channel', '10350', '2004-12-02', 'Shipped'),\n",
       " ('Euro+ Shopping Channel', '10355', '2004-12-07', 'Shipped'),\n",
       " ('Euro+ Shopping Channel', '10358', '2004-12-10', 'Shipped'),\n",
       " ('Euro+ Shopping Channel', '10378', '2005-02-10', 'Shipped'),\n",
       " ('Euro+ Shopping Channel', '10379', '2005-02-10', 'Shipped'),\n",
       " ('Euro+ Shopping Channel', '10380', '2005-02-16', 'Shipped'),\n",
       " ('Euro+ Shopping Channel', '10383', '2005-02-22', 'Shipped'),\n",
       " ('Euro+ Shopping Channel', '10386', '2005-03-01', 'Resolved'),\n",
       " ('Euro+ Shopping Channel', '10394', '2005-03-15', 'Shipped'),\n",
       " ('Euro+ Shopping Channel', '10412', '2005-05-03', 'Shipped'),\n",
       " ('Euro+ Shopping Channel', '10417', '2005-05-13', 'Disputed'),\n",
       " ('Euro+ Shopping Channel', '10424', '2005-05-31', 'In Process'),\n",
       " ('Extreme Desk Decorations, Ltd', '10234', '2004-03-30', 'Shipped'),\n",
       " ('Extreme Desk Decorations, Ltd', '10268', '2004-07-12', 'Shipped'),\n",
       " ('Extreme Desk Decorations, Ltd', '10418', '2005-05-16', 'Shipped'),\n",
       " ('Frau da Collezione', '10157', '2003-10-09', 'Shipped'),\n",
       " ('Frau da Collezione', '10218', '2004-02-09', 'Shipped'),\n",
       " ('FunGiftIdeas.com', '10166', '2003-10-21', 'Shipped'),\n",
       " ('FunGiftIdeas.com', '10321', '2004-11-04', 'Shipped'),\n",
       " ('FunGiftIdeas.com', '10388', '2005-03-03', 'Shipped'),\n",
       " ('Gift Depot Inc.', '10172', '2003-11-05', 'Shipped'),\n",
       " ('Gift Depot Inc.', '10263', '2004-06-28', 'Shipped'),\n",
       " ('Gift Depot Inc.', '10413', '2005-05-05', 'Shipped'),\n",
       " ('Gift Ideas Corp.', '10131', '2003-06-16', 'Shipped'),\n",
       " ('Gift Ideas Corp.', '10146', '2003-09-03', 'Shipped'),\n",
       " ('Gift Ideas Corp.', '10353', '2004-12-04', 'Shipped'),\n",
       " ('Gifts4AllAges.com', '10264', '2004-06-30', 'Shipped'),\n",
       " ('Gifts4AllAges.com', '10295', '2004-09-10', 'Shipped'),\n",
       " ('Gifts4AllAges.com', '10414', '2005-05-06', 'On Hold'),\n",
       " ('GiftsForHim.com', '10202', '2003-12-02', 'Shipped'),\n",
       " ('GiftsForHim.com', '10260', '2004-06-16', 'Cancelled'),\n",
       " ('GiftsForHim.com', '10410', '2005-04-29', 'Shipped'),\n",
       " ('Handji Gifts& Co', '10217', '2004-02-04', 'Shipped'),\n",
       " ('Handji Gifts& Co', '10259', '2004-06-15', 'Shipped'),\n",
       " ('Handji Gifts& Co', '10288', '2004-09-01', 'Shipped'),\n",
       " ('Handji Gifts& Co', '10409', '2005-04-23', 'Shipped'),\n",
       " ('Heintze Collectables', '10161', '2003-10-17', 'Shipped'),\n",
       " ('Heintze Collectables', '10314', '2004-10-22', 'Shipped'),\n",
       " ('Herkku Gifts', '10181', '2003-11-12', 'Shipped'),\n",
       " ('Herkku Gifts', '10188', '2003-11-18', 'Shipped'),\n",
       " ('Herkku Gifts', '10289', '2004-09-03', 'Shipped'),\n",
       " ('Iberia Gift Imports, Corp.', '10184', '2003-11-14', 'Shipped'),\n",
       " ('Iberia Gift Imports, Corp.', '10303', '2004-10-06', 'Shipped'),\n",
       " (\"Kelly's Gift Shop\", '10138', '2003-07-07', 'Shipped'),\n",
       " (\"Kelly's Gift Shop\", '10179', '2003-11-11', 'Cancelled'),\n",
       " (\"Kelly's Gift Shop\", '10360', '2004-12-16', 'Shipped'),\n",
       " (\"Kelly's Gift Shop\", '10399', '2005-04-01', 'Shipped'),\n",
       " ('King Kong Collectables, Co.', '10187', '2003-11-15', 'Shipped'),\n",
       " ('King Kong Collectables, Co.', '10200', '2003-12-01', 'Shipped'),\n",
       " (\"L'ordine Souveniers\", '10176', '2003-11-06', 'Shipped'),\n",
       " (\"L'ordine Souveniers\", '10266', '2004-07-06', 'Shipped'),\n",
       " (\"L'ordine Souveniers\", '10416', '2005-05-10', 'Shipped'),\n",
       " (\"La Corne D'abondance, Co.\", '10114', '2003-04-01', 'Shipped'),\n",
       " (\"La Corne D'abondance, Co.\", '10286', '2004-08-28', 'Shipped'),\n",
       " (\"La Corne D'abondance, Co.\", '10336', '2004-11-20', 'Shipped'),\n",
       " ('La Rochelle Gifts', '10275', '2004-07-23', 'Shipped'),\n",
       " ('La Rochelle Gifts', '10315', '2004-10-29', 'Shipped'),\n",
       " ('La Rochelle Gifts', '10375', '2005-02-03', 'Shipped'),\n",
       " ('La Rochelle Gifts', '10425', '2005-05-31', 'In Process'),\n",
       " ('Land of Toys Inc.', '10107', '2003-02-24', 'Shipped'),\n",
       " ('Land of Toys Inc.', '10248', '2004-05-07', 'Cancelled'),\n",
       " ('Land of Toys Inc.', '10292', '2004-09-08', 'Shipped'),\n",
       " ('Land of Toys Inc.', '10329', '2004-11-15', 'Shipped'),\n",
       " ('Lyon Souveniers', '10134', '2003-07-01', 'Shipped'),\n",
       " ('Lyon Souveniers', '10356', '2004-12-09', 'Shipped'),\n",
       " ('Lyon Souveniers', '10395', '2005-03-17', 'Shipped'),\n",
       " ('Marseille Mini Autos', '10122', '2003-05-08', 'Shipped'),\n",
       " ('Marseille Mini Autos', '10344', '2004-11-25', 'Shipped'),\n",
       " ('Marseille Mini Autos', '10364', '2005-01-06', 'Shipped'),\n",
       " (\"Marta's Replicas Co.\", '10285', '2004-08-27', 'Shipped'),\n",
       " (\"Marta's Replicas Co.\", '10305', '2004-10-13', 'Shipped'),\n",
       " (\"Men 'R' US Retailers, Ltd.\", '10160', '2003-10-11', 'Shipped'),\n",
       " (\"Men 'R' US Retailers, Ltd.\", '10209', '2004-01-09', 'Shipped'),\n",
       " ('Microscale Inc.', '10242', '2004-04-20', 'Shipped'),\n",
       " ('Microscale Inc.', '10319', '2004-11-03', 'Shipped'),\n",
       " ('Mini Auto Werke', '10164', '2003-10-21', 'Resolved'),\n",
       " ('Mini Auto Werke', '10170', '2003-11-04', 'Shipped'),\n",
       " ('Mini Auto Werke', '10392', '2005-03-10', 'Shipped'),\n",
       " ('Mini Caravy', '10241', '2004-04-13', 'Shipped'),\n",
       " ('Mini Caravy', '10255', '2004-06-04', 'Shipped'),\n",
       " ('Mini Caravy', '10405', '2005-04-14', 'Shipped'),\n",
       " ('Mini Classics', '10195', '2003-11-25', 'Shipped'),\n",
       " ('Mini Classics', '10308', '2004-10-15', 'Shipped'),\n",
       " ('Mini Creations Ltd.', '10143', '2003-08-10', 'Shipped'),\n",
       " ('Mini Creations Ltd.', '10185', '2003-11-14', 'Shipped'),\n",
       " ('Mini Creations Ltd.', '10365', '2005-01-07', 'Shipped'),\n",
       " ('Mini Gifts Distributors Ltd.', '10113', '2003-03-26', 'Shipped'),\n",
       " ('Mini Gifts Distributors Ltd.', '10135', '2003-07-02', 'Shipped'),\n",
       " ('Mini Gifts Distributors Ltd.', '10142', '2003-08-08', 'Shipped'),\n",
       " ('Mini Gifts Distributors Ltd.', '10182', '2003-11-12', 'Shipped'),\n",
       " ('Mini Gifts Distributors Ltd.', '10229', '2004-03-11', 'Shipped'),\n",
       " ('Mini Gifts Distributors Ltd.', '10271', '2004-07-20', 'Shipped'),\n",
       " ('Mini Gifts Distributors Ltd.', '10282', '2004-08-20', 'Shipped'),\n",
       " ('Mini Gifts Distributors Ltd.', '10312', '2004-10-21', 'Shipped'),\n",
       " ('Mini Gifts Distributors Ltd.', '10335', '2004-11-19', 'Shipped'),\n",
       " ('Mini Gifts Distributors Ltd.', '10357', '2004-12-10', 'Shipped'),\n",
       " ('Mini Gifts Distributors Ltd.', '10368', '2005-01-19', 'Shipped'),\n",
       " ('Mini Gifts Distributors Ltd.', '10371', '2005-01-23', 'Shipped'),\n",
       " ('Mini Gifts Distributors Ltd.', '10382', '2005-02-17', 'Shipped'),\n",
       " ('Mini Gifts Distributors Ltd.', '10385', '2005-02-28', 'Shipped'),\n",
       " ('Mini Gifts Distributors Ltd.', '10390', '2005-03-04', 'Shipped'),\n",
       " ('Mini Gifts Distributors Ltd.', '10396', '2005-03-23', 'Shipped'),\n",
       " ('Mini Gifts Distributors Ltd.', '10421', '2005-05-29', 'In Process'),\n",
       " ('Mini Wheels Co.', '10111', '2003-03-25', 'Shipped'),\n",
       " ('Mini Wheels Co.', '10201', '2003-12-01', 'Shipped'),\n",
       " ('Mini Wheels Co.', '10333', '2004-11-18', 'Shipped'),\n",
       " ('Motor Mint Distributors Inc.', '10109', '2003-03-10', 'Shipped'),\n",
       " ('Motor Mint Distributors Inc.', '10236', '2004-04-03', 'Shipped'),\n",
       " ('Motor Mint Distributors Inc.', '10331', '2004-11-17', 'Shipped'),\n",
       " ('Muscle Machine Inc', '10127', '2003-06-03', 'Shipped'),\n",
       " ('Muscle Machine Inc', '10204', '2003-12-02', 'Shipped'),\n",
       " ('Muscle Machine Inc', '10267', '2004-07-07', 'Shipped'),\n",
       " ('Muscle Machine Inc', '10349', '2004-12-01', 'Shipped'),\n",
       " ('Norway Gifts By Mail, Co.', '10284', '2004-08-21', 'Shipped'),\n",
       " ('Norway Gifts By Mail, Co.', '10301', '2003-10-05', 'Shipped'),\n",
       " ('Online Diecast Creations Co.', '10100', '2003-01-06', 'Shipped'),\n",
       " ('Online Diecast Creations Co.', '10192', '2003-11-20', 'Shipped'),\n",
       " ('Online Diecast Creations Co.', '10322', '2004-11-04', 'Shipped'),\n",
       " ('Online Mini Collectables', '10276', '2004-08-02', 'Shipped'),\n",
       " ('Online Mini Collectables', '10294', '2004-09-10', 'Shipped'),\n",
       " ('Osaka Souveniers Co.', '10210', '2004-01-12', 'Shipped'),\n",
       " ('Osaka Souveniers Co.', '10240', '2004-04-13', 'Shipped'),\n",
       " ('Oulu Toy Supplies, Inc.', '10151', '2003-09-21', 'Shipped'),\n",
       " ('Oulu Toy Supplies, Inc.', '10239', '2004-04-12', 'Shipped'),\n",
       " ('Oulu Toy Supplies, Inc.', '10373', '2005-01-31', 'Shipped'),\n",
       " ('Petit Auto', '10221', '2004-02-18', 'Shipped'),\n",
       " ('Petit Auto', '10273', '2004-07-21', 'Shipped'),\n",
       " ('Petit Auto', '10423', '2005-05-30', 'In Process'),\n",
       " ('Québec Home Shopping Network', '10171', '2003-11-05', 'Shipped'),\n",
       " ('Québec Home Shopping Network', '10261', '2004-06-17', 'Shipped'),\n",
       " ('Québec Home Shopping Network', '10411', '2005-05-01', 'Shipped'),\n",
       " ('Reims Collectables', '10121', '2003-05-07', 'Shipped'),\n",
       " ('Reims Collectables', '10137', '2003-07-10', 'Shipped'),\n",
       " ('Reims Collectables', '10343', '2004-11-24', 'Shipped'),\n",
       " ('Reims Collectables', '10359', '2004-12-15', 'Shipped'),\n",
       " ('Reims Collectables', '10398', '2005-03-30', 'Shipped'),\n",
       " ('Rovelli Gifts', '10106', '2003-02-17', 'Shipped'),\n",
       " ('Rovelli Gifts', '10173', '2003-11-05', 'Shipped'),\n",
       " ('Rovelli Gifts', '10328', '2004-11-12', 'Shipped'),\n",
       " ('Royal Canadian Collectables, Ltd.', '10235', '2004-04-02', 'Shipped'),\n",
       " ('Royal Canadian Collectables, Ltd.', '10283', '2004-08-20', 'Shipped'),\n",
       " ('Royale Belge', '10116', '2003-04-11', 'Shipped'),\n",
       " ('Royale Belge', '10144', '2003-08-13', 'Shipped'),\n",
       " ('Royale Belge', '10338', '2004-11-22', 'Shipped'),\n",
       " ('Royale Belge', '10366', '2005-01-10', 'Shipped'),\n",
       " ('Salzburg Collectables', '10119', '2003-04-28', 'Shipped'),\n",
       " ('Salzburg Collectables', '10269', '2004-07-16', 'Shipped'),\n",
       " ('Salzburg Collectables', '10341', '2004-11-24', 'Shipped'),\n",
       " ('Salzburg Collectables', '10419', '2005-05-17', 'Shipped'),\n",
       " ('Saveley & Henriot, Co.', '10194', '2003-11-25', 'Shipped'),\n",
       " ('Saveley & Henriot, Co.', '10208', '2004-01-02', 'Shipped'),\n",
       " ('Saveley & Henriot, Co.', '10227', '2004-03-02', 'Shipped'),\n",
       " ('Scandinavian Gift Ideas', '10167', '2003-10-23', 'Cancelled'),\n",
       " ('Scandinavian Gift Ideas', '10291', '2004-09-08', 'Shipped'),\n",
       " ('Scandinavian Gift Ideas', '10389', '2005-03-03', 'Shipped'),\n",
       " ('Signal Collectibles Ltd.', '10149', '2003-09-12', 'Shipped'),\n",
       " ('Signal Collectibles Ltd.', '10219', '2004-02-10', 'Shipped'),\n",
       " ('Signal Gift Stores', '10124', '2003-05-21', 'Shipped'),\n",
       " ('Signal Gift Stores', '10278', '2004-08-06', 'Shipped'),\n",
       " ('Signal Gift Stores', '10346', '2004-11-29', 'Shipped'),\n",
       " ('Souveniers And Things Co.', '10139', '2003-07-16', 'Shipped'),\n",
       " ('Souveniers And Things Co.', '10270', '2004-07-19', 'Shipped'),\n",
       " ('Souveniers And Things Co.', '10361', '2004-12-17', 'Shipped'),\n",
       " ('Souveniers And Things Co.', '10420', '2005-05-29', 'In Process'),\n",
       " ('Stylish Desk Decors, Co.', '10129', '2003-06-12', 'Shipped'),\n",
       " ('Stylish Desk Decors, Co.', '10175', '2003-11-06', 'Shipped'),\n",
       " ('Stylish Desk Decors, Co.', '10351', '2004-12-03', 'Shipped'),\n",
       " ('Suominen Souveniers', '10141', '2003-08-01', 'Shipped'),\n",
       " ('Suominen Souveniers', '10247', '2004-05-05', 'Shipped'),\n",
       " ('Suominen Souveniers', '10363', '2005-01-06', 'Shipped'),\n",
       " ('Super Scale Inc.', '10196', '2003-11-26', 'Shipped'),\n",
       " ('Super Scale Inc.', '10245', '2004-05-04', 'Shipped'),\n",
       " ('Technics Stores Inc.', '10140', '2003-07-24', 'Shipped'),\n",
       " ('Technics Stores Inc.', '10168', '2003-10-28', 'Shipped'),\n",
       " ('Technics Stores Inc.', '10317', '2004-11-02', 'Shipped'),\n",
       " ('Technics Stores Inc.', '10362', '2005-01-05', 'Shipped'),\n",
       " ('Tekni Collectables Inc.', '10233', '2004-03-29', 'Shipped'),\n",
       " ('Tekni Collectables Inc.', '10251', '2004-05-18', 'Shipped'),\n",
       " ('Tekni Collectables Inc.', '10401', '2005-04-03', 'On Hold'),\n",
       " ('The Sharp Gifts Warehouse', '10250', '2004-05-11', 'Shipped'),\n",
       " ('The Sharp Gifts Warehouse', '10257', '2004-06-14', 'Shipped'),\n",
       " ('The Sharp Gifts Warehouse', '10400', '2005-04-01', 'Shipped'),\n",
       " ('The Sharp Gifts Warehouse', '10407', '2005-04-22', 'On Hold'),\n",
       " ('Tokyo Collectables, Ltd', '10258', '2004-06-15', 'Shipped'),\n",
       " ('Tokyo Collectables, Ltd', '10339', '2004-11-23', 'Shipped'),\n",
       " ('Tokyo Collectables, Ltd', '10372', '2005-01-26', 'Shipped'),\n",
       " ('Tokyo Collectables, Ltd', '10408', '2005-04-22', 'Shipped'),\n",
       " ('Toms Spezialitäten, Ltd', '10191', '2003-11-20', 'Shipped'),\n",
       " ('Toms Spezialitäten, Ltd', '10310', '2004-10-16', 'Shipped'),\n",
       " ('Toys of Finland, Co.', '10155', '2003-10-06', 'Shipped'),\n",
       " ('Toys of Finland, Co.', '10299', '2004-09-30', 'Shipped'),\n",
       " ('Toys of Finland, Co.', '10377', '2005-02-09', 'Shipped'),\n",
       " ('Toys4GrownUps.com', '10145', '2003-08-25', 'Shipped'),\n",
       " ('Toys4GrownUps.com', '10189', '2003-11-18', 'Shipped'),\n",
       " ('Toys4GrownUps.com', '10367', '2005-01-12', 'Resolved'),\n",
       " ('UK Collectables, Ltd.', '10253', '2004-06-01', 'Cancelled'),\n",
       " ('UK Collectables, Ltd.', '10302', '2003-10-06', 'Shipped'),\n",
       " ('UK Collectables, Ltd.', '10403', '2005-04-08', 'Shipped'),\n",
       " ('Vida Sport, Ltd', '10225', '2004-02-22', 'Shipped'),\n",
       " ('Vida Sport, Ltd', '10287', '2004-08-30', 'Shipped'),\n",
       " ('Vitachrome Inc.', '10102', '2003-01-10', 'Shipped'),\n",
       " ('Vitachrome Inc.', '10237', '2004-04-05', 'Shipped'),\n",
       " ('Vitachrome Inc.', '10324', '2004-11-05', 'Shipped'),\n",
       " ('Volvo Model Replicas, Co', '10112', '2003-03-24', 'Shipped'),\n",
       " ('Volvo Model Replicas, Co', '10320', '2004-11-03', 'Shipped'),\n",
       " ('Volvo Model Replicas, Co', '10326', '2004-11-09', 'Shipped'),\n",
       " ('Volvo Model Replicas, Co', '10334', '2004-11-19', 'On Hold'),\n",
       " ('West Coast Collectables Co.', '10199', '2003-12-01', 'Shipped'),\n",
       " ('West Coast Collectables Co.', '10215', '2004-01-29', 'Shipped'),\n",
       " ('giftsbymail.co.uk', '10232', '2004-03-20', 'Shipped'),\n",
       " ('giftsbymail.co.uk', '10316', '2004-11-01', 'Shipped')]"
      ]
     },
     "execution_count": 21,
     "metadata": {},
     "output_type": "execute_result"
    }
   ],
   "source": [
    "cur.execute(\"\"\"\n",
    "SELECT \n",
    "  customers.customerName\n",
    ", orders.orderNumber\n",
    ", orders.orderDate\n",
    ", orders.status\n",
    "FROM\n",
    "  customers JOIN orders\n",
    "  ON customers.customerNumber = orders.customerNumber\n",
    "ORDER BY\n",
    "  customers.customerName\n",
    "\"\"\").fetchall()"
   ]
  },
  {
   "cell_type": "markdown",
   "metadata": {},
   "source": [
    "## Orders and their Order Details (another One-to-Many join)\n",
    "\n",
    "Return a list of orders. For each order return a record for each order detail within the order."
   ]
  },
  {
   "cell_type": "code",
   "execution_count": 3,
   "metadata": {},
   "outputs": [],
   "source": [
    "cur.execute(\"\"\"\n",
    "SELECT \n",
    "  orders.orderNumber\n",
    ", orderdetails.productCode\n",
    ", orderdetails.quant\n",
    ", orders.orderDate\n",
    ", orders.status\n",
    "FROM\n",
    "  orders JOIN orders\n",
    "  ON customers.customerNumber = orders.customerNumber\n",
    "ORDER BY\n",
    "  customers.customerName\n",
    "\"\"\").fetchall()"
   ]
  },
  {
   "cell_type": "markdown",
   "metadata": {},
   "source": [
    "## Orders, Order details and Product Details (a Many-to-Many Join)"
   ]
  },
  {
   "cell_type": "markdown",
   "metadata": {},
   "source": [
    "Return a list of the orders with the the order information, and all the product information for each product in the order. "
   ]
  },
  {
   "cell_type": "code",
   "execution_count": 4,
   "metadata": {},
   "outputs": [],
   "source": [
    "# Your code here"
   ]
  },
  {
   "cell_type": "markdown",
   "metadata": {},
   "source": [
    "## Summary"
   ]
  },
  {
   "cell_type": "markdown",
   "metadata": {},
   "source": [
    "In this lab, you practiced your knowledge on One-to-Many and Many-to-many relationships!"
   ]
  }
 ],
 "metadata": {
  "kernelspec": {
   "display_name": "Python 3",
   "language": "python",
   "name": "python3"
  },
  "language_info": {
   "codemirror_mode": {
    "name": "ipython",
    "version": 3
   },
   "file_extension": ".py",
   "mimetype": "text/x-python",
   "name": "python",
   "nbconvert_exporter": "python",
   "pygments_lexer": "ipython3",
   "version": "3.6.6"
  }
 },
 "nbformat": 4,
 "nbformat_minor": 2
}
